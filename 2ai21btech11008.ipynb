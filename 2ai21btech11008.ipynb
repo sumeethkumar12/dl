{
  "nbformat": 4,
  "nbformat_minor": 0,
  "metadata": {
    "colab": {
      "provenance": [],
      "authorship_tag": "ABX9TyNpMr3VI3aOe/koVWY+wWuN",
      "include_colab_link": true
    },
    "kernelspec": {
      "name": "python3",
      "display_name": "Python 3"
    },
    "language_info": {
      "name": "python"
    }
  },
  "cells": [
    {
      "cell_type": "markdown",
      "metadata": {
        "id": "view-in-github",
        "colab_type": "text"
      },
      "source": [
        "<a href=\"https://colab.research.google.com/github/sumeethkumar12/dl/blob/main/2ai21btech11008.ipynb\" target=\"_parent\"><img src=\"https://colab.research.google.com/assets/colab-badge.svg\" alt=\"Open In Colab\"/></a>"
      ]
    },
    {
      "cell_type": "code",
      "source": [
        "#qs 2 a \n",
        "import numpy as np\n",
        "import matplotlib.pyplot as plt\n",
        "\n",
        "#  function to be minimized\n",
        "def f(x, y):\n",
        "    return 10*x**2 + y**2\n",
        "\n",
        "#  partial derivatives \n",
        "def df_dx(x, y):\n",
        "    return 20*x\n",
        "\n",
        "def df_dy(x, y):\n",
        "    return 2*y\n",
        "\n",
        "#  hyperparameters\n",
        "learning_rate = 0.1\n",
        "num_iterations = 50\n",
        "\n",
        "#  initial point\n",
        "x = 2\n",
        "y = 1\n",
        "\n",
        "path1 = [(x, y)]\n",
        "\n",
        "for i in range(num_iterations):\n",
        "    #  the gradients\n",
        "    dx = df_dx(x, y)\n",
        "    dy = df_dy(x, y)\n",
        "    \n",
        "  \n",
        "    x -= learning_rate * dx\n",
        "    y -= learning_rate * dy\n",
        "    \n",
        "    path1.append((x, y))\n",
        "print(path1)\n",
        "#  path taken by the optimizer\n",
        "path1 = np.array(path1)\n",
        "plt.plot(path1[:, 0], path1[:, 1], '-o')\n",
        "plt.xlim([-5, 5])\n",
        "plt.ylim([-2, 2])\n",
        "plt.xlabel('x')\n",
        "plt.ylabel('y')\n",
        "plt.title('Vanilla SGD')\n",
        "plt.show()\n",
        "\n"
      ],
      "metadata": {
        "colab": {
          "base_uri": "https://localhost:8080/",
          "height": 332
        },
        "id": "tMaXSTOPKfWu",
        "outputId": "eb9bee17-68b0-41a0-d29d-97c082fafc55"
      },
      "execution_count": null,
      "outputs": [
        {
          "output_type": "stream",
          "name": "stdout",
          "text": [
            "[(2, 1), (-2.0, 0.8), (2.0, 0.64), (-2.0, 0.512), (2.0, 0.4096), (-2.0, 0.32768), (2.0, 0.26214400000000004), (-2.0, 0.20971520000000005), (2.0, 0.16777216000000003), (-2.0, 0.13421772800000004), (2.0, 0.10737418240000003), (-2.0, 0.08589934592000002), (2.0, 0.06871947673600001), (-2.0, 0.05497558138880001), (2.0, 0.04398046511104001), (-2.0, 0.035184372088832), (2.0, 0.028147497671065603), (-2.0, 0.02251799813685248), (2.0, 0.018014398509481985), (-2.0, 0.014411518807585589), (2.0, 0.01152921504606847), (-2.0, 0.009223372036854777), (2.0, 0.007378697629483821), (-2.0, 0.005902958103587057), (2.0, 0.004722366482869646), (-2.0, 0.0037778931862957168), (2.0, 0.0030223145490365735), (-2.0, 0.002417851639229259), (2.0, 0.001934281311383407), (-2.0, 0.0015474250491067257), (2.0, 0.0012379400392853806), (-2.0, 0.0009903520314283045), (2.0, 0.0007922816251426436), (-2.0, 0.000633825300114115), (2.0, 0.0005070602400912919), (-2.0, 0.0004056481920730336), (2.0, 0.00032451855365842687), (-2.0, 0.0002596148429267415), (2.0, 0.0002076918743413932), (-2.0, 0.00016615349947311455), (2.0, 0.00013292279957849163), (-2.0, 0.00010633823966279331), (2.0, 8.507059173023465e-05), (-2.0, 6.805647338418771e-05), (2.0, 5.444517870735017e-05), (-2.0, 4.3556142965880136e-05), (2.0, 3.4844914372704106e-05), (-2.0, 2.7875931498163285e-05), (2.0, 2.230074519853063e-05), (-2.0, 1.7840596158824504e-05), (2.0, 1.4272476927059604e-05)]\n"
          ]
        },
        {
          "output_type": "display_data",
          "data": {
            "text/plain": [
              "<Figure size 432x288 with 1 Axes>"
            ],
            "image/png": "[encoded data removed]"
          },
          "metadata": {
            "needs_background": "light"
          }
        }
      ]
    },
    {
      "cell_type": "code",
      "source": [
        "# qs 2b\n",
        "import numpy as np\n",
        "import matplotlib.pyplot as plt\n",
        "\n",
        "# function to be minimized\n",
        "def f(x, y):\n",
        "    return 10*x**2 + y**2\n",
        "\n",
        "#  partial derivatives\n",
        "def df_dx(x, y):\n",
        "    return 20*x\n",
        "\n",
        "def df_dy(x, y):\n",
        "    return 2*y\n",
        "\n",
        "# hyperparameters\n",
        "learning_rate = 0.1\n",
        "momentum = 0.9\n",
        "num_iterations = 50\n",
        "\n",
        "# initial point and velocity\n",
        "x = 2\n",
        "y = 1\n",
        "vx, vy = 0, 0\n",
        "\n",
        "\n",
        "path2 = [(x, y)]\n",
        "\n",
        "for i in range(num_iterations):\n",
        "    #  the gradients\n",
        "    dx = df_dx(x, y)\n",
        "    dy = df_dy(x, y)\n",
        "    \n",
        "    #  velocity\n",
        "    vx = momentum * vx - learning_rate * dx\n",
        "    vy = momentum * vy - learning_rate * dy\n",
        "    \n",
        "    # the parameters\n",
        "    x += vx\n",
        "    y += vy\n",
        "    \n",
        "    path2.append((x, y))\n",
        "print(path2)\n",
        "# path taken by the optimizer\n",
        "path2 = np.array(path2)\n",
        "plt.plot(path2[:, 0], path2[:, 1], '-o')\n",
        "plt.xlim([-5, 5])\n",
        "plt.ylim([-2, 2])\n",
        "plt.xlabel('x')\n",
        "plt.ylabel('y')\n",
        "plt.title('SGD with momentum')\n",
        "plt.show()\n"
      ],
      "metadata": {
        "colab": {
          "base_uri": "https://localhost:8080/",
          "height": 332
        },
        "id": "PoD8-cRyLqQm",
        "outputId": "157520e4-fb2e-4b50-d684-1aed8e5e5954"
      },
      "execution_count": null,
      "outputs": [
        {
          "output_type": "stream",
          "name": "stdout",
          "text": [
            "[(2, 1), (-2.0, 0.8), (-1.6, 0.45999999999999996), (1.96, 0.06199999999999983), (1.2439999999999998, -0.30860000000000026), (-1.8883999999999999, -0.5804200000000004), (-0.9307599999999994, -0.7089740000000003), (1.792636, -0.6828778000000002), (0.6584203999999994, -0.52281566), (-1.67921444, -0.2741966019999999), (-0.42465691599999955, 0.004399870600000189), (1.5537586876, 0.25425672182000025), (0.22681535563999922, 0.42827654355400024), (-1.421064354404, 0.49923907440380016), (-0.062027384635599425, 0.46325753728786007), (1.28516065742716, 0.33822264642594196), (-0.07269141957067693, 0.1580467153650273), (-1.1493754497273763, -0.03572096566280136), (0.18035982258634675, -0.2029676854552869), (1.016401922496004, -0.3128961961774665), (-0.2639640325773125, -0.34925261659193485), (-0.8883653269886722, -0.3121228716465694), (0.32640416201844835, -0.2162815268664266), (0.7668883780879603, -0.08676801119101277), (-0.37045258362539957, 0.047147755155062254), (-0.6531542819166243, 0.15824239383551733), (0.3987227534545219, 0.22657908988082343), (0.5479665783795097, 0.24276629834543423), (-0.41364713594702074, 0.2087815262944971), (-0.45180520694685655, 0.13643892618975426), (0.41746294304700426, 0.044042800857534856), (0.3648783919474704, -0.04792227211296958), (-0.412204487937051, -0.12110638336382966), (-0.2871701039590183, -0.1627508068168378), (0.3997010495392478, -0.16768062656117755), (0.2184829886091917, -0.13858133901884784), (-0.38157924344624217, -0.08467571242698152), (-0.1584767654036483, -0.019225506008905532), (0.3592689956419828, 0.04352478096914396), (0.1067021892990852, 0.09129508305555971), (-0.334012315007693, 0.11602933832222195), (-0.06263073886840737, 0.11508430039777358), (0.30687415739376445, 0.09121690618621532), (0.0256802492421902, 0.05149287015856982), (-0.27875476657860704, 0.005442663701974902), (0.004763252339889501, -0.0370910548493555), (0.2504029646867574, -0.06795319057568176), (-0.02932722357457629, -0.08213847461423904), (-0.22242994586062403, -0.07847753532609278), (0.04863749580318105, -0.05948718290154259), (0.19532320169424353, -0.030498429139138902)]\n"
          ]
        },
        {
          "output_type": "display_data",
          "data": {
            "text/plain": [
              "<Figure size 432x288 with 1 Axes>"
            ],
            "image/png": "[encoded data removed]"
          },
          "metadata": {
            "needs_background": "light"
          }
        }
      ]
    },
    {
      "cell_type": "code",
      "source": [
        "#qs 2c\n",
        "import numpy as np\n",
        "import matplotlib.pyplot as plt\n",
        "\n",
        "# function to be minimized\n",
        "def f(x, y):\n",
        "    return 10*x**2 + y**2\n",
        "\n",
        "#  partial derivatives of the function\n",
        "def df_dx(x, y):\n",
        "    return 20*x\n",
        "\n",
        "def df_dy(x, y):\n",
        "    return 2*y\n",
        "\n",
        "# hyperparameters\n",
        "learning_rate = 0.02\n",
        "momentum = 0.9\n",
        "num_iterations = 50\n",
        "\n",
        "# initial point and velocity\n",
        "x = 2\n",
        "y = 1\n",
        "vx, vy = 0, 0\n",
        "\n",
        "\n",
        "path = [(x, y)]\n",
        "\n",
        "\n",
        "for i in range(num_iterations):\n",
        "    # Compute the gradients at the lookahead point\n",
        "    x_lookahead = x + momentum * vx\n",
        "    y_lookahead = y + momentum * vy\n",
        "    dx_lookahead = df_dx(x_lookahead, y_lookahead)\n",
        "    dy_lookahead = df_dy(x_lookahead, y_lookahead)\n",
        "    \n",
        "    \n",
        "    vx = momentum * vx - learning_rate * dx_lookahead\n",
        "    vy = momentum * vy - learning_rate * dy_lookahead\n",
        "    \n",
        "    #  parameters\n",
        "    x += vx\n",
        "    y += vy\n",
        "    \n",
        "    path.append((x, y))\n",
        "\n",
        "# path taken by the optimizer\n",
        "path = np.array(path)\n",
        "plt.plot(path[:, 0], path[:, 1], '-o')\n",
        "plt.xlim([-5, 5])\n",
        "plt.ylim([-2, 2])\n",
        "plt.xlabel('x')\n",
        "plt.ylabel('y')\n",
        "plt.title('Nesterov Momentum')\n",
        "plt.show()\n"
      ],
      "metadata": {
        "colab": {
          "base_uri": "https://localhost:8080/",
          "height": 295
        },
        "id": "hyzEpgm6TcWR",
        "outputId": "68374890-94ef-4100-9e79-3ac3598e3c4c"
      },
      "execution_count": null,
      "outputs": [
        {
          "output_type": "display_data",
          "data": {
            "text/plain": [
              "<Figure size 432x288 with 1 Axes>"
            ],
            "image/png": "[encoded data removed]"
          },
          "metadata": {
            "needs_background": "light"
          }
        }
      ]
    },
    {
      "cell_type": "code",
      "source": [
        "#qs 2d\n",
        "import numpy as np\n",
        "import matplotlib.pyplot as plt\n",
        "\n",
        "#function to be minimized\n",
        "def f(x, y):\n",
        "    return 10*x**2 + y**2\n",
        "\n",
        "#  partial derivatives of the function\n",
        "def df_dx(x, y):\n",
        "    return 20*x\n",
        "\n",
        "def df_dy(x, y):\n",
        "    return 2*y\n",
        "\n",
        "# hyperparameters\n",
        "learning_rate = 0.25\n",
        "epsilon = 1e-8\n",
        "num_iterations = 50\n",
        "x = 2\n",
        "y = 1\n",
        "\n",
        "sx, sy = 0, 0\n",
        "\n",
        "path = [(x, y)]\n",
        "\n",
        "#  the optimizer\n",
        "for i in range(num_iterations):\n",
        "    # the gradients\n",
        "    dx = df_dx(x, y)\n",
        "    dy = df_dy(x, y)\n",
        "    \n",
        "    sx += dx**2\n",
        "    sy += dy**2\n",
        "    lr_x = learning_rate / np.sqrt(sx + epsilon)\n",
        "    lr_y = learning_rate / np.sqrt(sy + epsilon)\n",
        "    \n",
        "    \n",
        "    x -= lr_x * dx\n",
        "    y -= lr_y * dy\n",
        "    path.append((x, y))\n",
        "\n",
        "# path taken by the optimizer\n",
        "path = np.array(path)\n",
        "plt.plot(path[:, 0], path[:, 1], '-o')\n",
        "plt.xlim([-2, 2])\n",
        "plt.ylim([-5, 5])\n",
        "plt.xlabel('x')\n",
        "plt.ylabel('y')\n",
        "plt.title('AdaGrad')\n",
        "plt.show()\n"
      ],
      "metadata": {
        "colab": {
          "base_uri": "https://localhost:8080/",
          "height": 295
        },
        "id": "0neJ9ziuXNu1",
        "outputId": "a5678959-3273-4f14-e667-67d853aa0d74"
      },
      "execution_count": null,
      "outputs": [
        {
          "output_type": "display_data",
          "data": {
            "text/plain": [
              "<Figure size 432x288 with 1 Axes>"
            ],
            "image/png": "[encoded data removed]"
          },
          "metadata": {
            "needs_background": "light"
          }
        }
      ]
    },
    {
      "cell_type": "code",
      "source": [
        "#qs 2e\n",
        "import numpy as np\n",
        "import matplotlib.pyplot as plt\n",
        "\n",
        "# function to be minimized\n",
        "def f(x, y):\n",
        "    return 10*x**2 + y**2\n",
        "\n",
        "#partial derivatives of the function\n",
        "def df_dx(x, y):\n",
        "    return 20*x\n",
        "\n",
        "def df_dy(x, y):\n",
        "    return 2*y\n",
        "\n",
        "# hyperparameters\n",
        "learning_rate = 0.1\n",
        "beta = 0.9\n",
        "epsilon = 1e-8\n",
        "num_iterations = 50\n",
        "\n",
        "# initial point\n",
        "x = np.random.uniform(-2, 2)\n",
        "y = np.random.uniform(-2, 2)\n",
        "\n",
        "# Initialize the moving average of squares of gradients to zero\n",
        "msx, msy = 0, 0\n",
        "\n",
        "# Store the path taken by the optimizer\n",
        "path = [(x, y)]\n",
        "\n",
        "# Run the optimizer\n",
        "for i in range(num_iterations):\n",
        "    # Compute the gradients\n",
        "    dx = df_dx(x, y)\n",
        "    dy = df_dy(x, y)\n",
        "    \n",
        "    # Update the moving average of squares of gradients\n",
        "    msx = beta * msx + (1 - beta) * dx**2\n",
        "    msy = beta * msy + (1 - beta) * dy**2\n",
        "    \n",
        "    # Compute the learning rate\n",
        "    lr_x = learning_rate / np.sqrt(msx + epsilon)\n",
        "    lr_y = learning_rate / np.sqrt(msy + epsilon)\n",
        "    \n",
        "    # Update the parameters\n",
        "    x -= lr_x * dx\n",
        "    y -= lr_y * dy\n",
        "    \n",
        "    # Store the new point\n",
        "    path.append((x, y))\n",
        "\n",
        "# Plot the path taken by the optimizer\n",
        "path = np.array(path)\n",
        "plt.plot(path[:, 0], path[:, 1], '-o')\n",
        "plt.xlim([-2, 2])\n",
        "plt.ylim([-2, 2])\n",
        "plt.xlabel('x')\n",
        "plt.ylabel('y')\n",
        "plt.title('RMSProp')\n",
        "plt.show()\n"
      ],
      "metadata": {
        "colab": {
          "base_uri": "https://localhost:8080/",
          "height": 295
        },
        "id": "xSrCHReAYe-o",
        "outputId": "8c8986d4-c80e-44d9-d92e-f65d0bb4fba6"
      },
      "execution_count": null,
      "outputs": [
        {
          "output_type": "display_data",
          "data": {
            "text/plain": [
              "<Figure size 432x288 with 1 Axes>"
            ],
            "image/png": "[encoded data removed]"
          },
          "metadata": {
            "needs_background": "light"
          }
        }
      ]
    },
    {
      "cell_type": "code",
      "source": [
        "!mkdir gif_folder"
      ],
      "metadata": {
        "id": "JC-F-SdirqLR"
      },
      "execution_count": null,
      "outputs": []
    },
    {
      "cell_type": "code",
      "source": [
        "#gif qs part\n",
        "import numpy as np\n",
        "import matplotlib.pyplot as plt\n",
        "import imageio\n",
        "\n",
        "# Define the function to be minimized\n",
        "def f(x, y):\n",
        "    return 10*x**2 + y**2\n",
        "\n",
        "# Define the partial derivatives of the function\n",
        "def df_dx(x, y):\n",
        "    return 20*x\n",
        "\n",
        "def df_dy(x, y):\n",
        "    return 2*y\n",
        "\n",
        "# Set the hyperparameters\n",
        "learning_rate = 0.08\n",
        "learning_rate2 = 0.014\n",
        "lr5=0.2\n",
        "momentum = 0.8\n",
        "beta = 0.8\n",
        "epsilon = 1e-8\n",
        "num_iterations = 50\n",
        "\n",
        "# Set the initial point\n",
        "x = np.random.uniform(-2, 2)\n",
        "y = np.random.uniform(-2, 2)\n",
        "\n",
        "# Initializing the velocities and moving averages of squares of gradients to zero\n",
        "vx, vy = 0, 0\n",
        "msx, msy = 0, 0\n",
        "\n",
        "# Store the paths taken by the optimizers or naming the paths\n",
        "paths = []\n",
        "\n",
        "# Run the optimizers\n",
        "#adding in lists seperatly the above qs\n",
        "for optimizer in ['sgd', 'momentum', 'nesterov', 'adagrad', 'rmsprop']:\n",
        "    # Reset the initial point, velocities, and moving averages of squares of gradients\n",
        "    x = 2\n",
        "    y = 2\n",
        "    vx, vy = 0, 0\n",
        "    msx, msy = 0, 0\n",
        "    \n",
        "    # Store the path taken by the optimizer\n",
        "    path = [(x, y)]\n",
        "    \n",
        "    # Run the optimizer for the specified number of iterations\n",
        "    for i in range(num_iterations):\n",
        "        # Compute the gradients\n",
        "        dx = df_dx(x, y)\n",
        "        dy = df_dy(x, y)\n",
        "        \n",
        "        # Update the parameters based on the optimizer\n",
        "        if optimizer == 'sgd':\n",
        "            x -= learning_rate * dx\n",
        "            y -= learning_rate * dy\n",
        "        elif optimizer == 'momentum':\n",
        "            vx = momentum * vx - 0.041 * dx\n",
        "            vy = momentum * vy - 0.041* dy\n",
        "            x += vx\n",
        "            y += vy\n",
        "        elif optimizer == 'nesterov':\n",
        "            vx_prev = vx\n",
        "            vy_prev = vy\n",
        "            vx = momentum * vx - learning_rate2 * df_dx(x + momentum * vx, y + momentum * vy)\n",
        "            vy = momentum * vy - learning_rate2 * df_dy(x + momentum * vx_prev, y + momentum * vy_prev)\n",
        "            x += vx\n",
        "            y += vy\n",
        "        elif optimizer == 'adagrad':\n",
        "            msx += dx**2\n",
        "            msy += dy**2\n",
        "            lr_x = 0.5 / np.sqrt(msx + epsilon)\n",
        "            lr_y = 0.5/ np.sqrt(msy + epsilon)\n",
        "            x -= lr_x * dx\n",
        "            y -= lr_y * dy\n",
        "        elif optimizer == 'rmsprop':\n",
        "            msx = beta * msx + (1 - beta) * dx**2\n",
        "            msy = beta * msy + (1 - beta) * dy**2\n",
        "            lr_x = lr5 / np.sqrt(msx + epsilon)\n",
        "            lr_y = lr5/ np.sqrt(msy + epsilon)\n",
        "            x -= lr_x * dx\n",
        "            y -= lr_y * dy\n",
        "        \n",
        "        # Store the new point\n",
        "        path.append((x, y))\n",
        "    \n",
        "    # Add the path taken\n",
        "    paths.append(path)\n",
        "\n",
        "print(paths,len(paths))\n",
        "frames = []\n",
        "for path in paths:\n",
        " path = np.array(path)\n",
        " plt.plot(path[:, 0], path[:, 1], '-o')\n",
        " plt.xlim(-2, 2)\n",
        " plt.ylim(-2, 2)\n",
        " plt.title('Optimizer: {}'.format(optimizer))\n",
        " plt.xlabel('x')\n",
        " plt.ylabel('y')\n",
        " plt.tight_layout()\n",
        "\n",
        " fig = plt.gcf()\n",
        " fig.canvas.draw()\n",
        " frame = np.array(fig.canvas.renderer.buffer_rgba())\n",
        " frames.append(frame)\n",
        " imageio.mimsave('gif_folder/optimization.gif', frames, fps=10,duration=0.2)\n",
        "\n"
      ],
      "metadata": {
        "colab": {
          "base_uri": "https://localhost:8080/",
          "height": 334
        },
        "outputId": "4d3897ca-2643-4890-e1de-537adef53050",
        "id": "fkMAwfp_rvCg"
      },
      "execution_count": null,
      "outputs": [
        {
          "output_type": "stream",
          "name": "stdout",
          "text": [
            "[[(2, 2), (-1.2000000000000002, 1.68), (0.7200000000000002, 1.4112), (-0.43200000000000016, 1.185408), (0.2592000000000002, 0.99574272), (-0.15552000000000016, 0.8364238848), (0.09331200000000009, 0.702596063232), (-0.05598720000000004, 0.59018069311488), (0.03359232000000002, 0.4957517822164992), (-0.020155392000000008, 0.41643149706185933), (0.012093235200000003, 0.3498024575319618), (-0.007255941120000001, 0.29383406432684794), (0.004353564672, 0.24682061403455227), (-0.0026121388032000004, 0.20732931578902392), (0.0015672832819200004, 0.17415662526278008), (-0.0009403699691520003, 0.14629156522073528), (0.0005642219814912001, 0.12288491478541763), (-0.0003385331888947201, 0.1032233284197508), (0.00020311991333683203, 0.08670759587259068), (-0.00012187194800209925, 0.07283438053297617), (7.312316880125956e-05, 0.061180879647699984), (-4.3873901280755734e-05, 0.051391938904067985), (2.632434076845344e-05, 0.04316922867941711), (-1.579460446107206e-05, 0.036262152090710376), (9.476762676643237e-06, 0.030460207756196716), (-5.686057605985943e-06, 0.02558657451520524), (3.4116345635915667e-06, 0.021492722592772403), (-2.0469807381549395e-06, 0.01805388697792882), (1.2281884428929639e-06, 0.01516526506146021), (-7.369130657357785e-07, 0.012738822651626576), (4.421478394414672e-07, 0.010700611027366323), (-2.6528870366488033e-07, 0.008988513262987712), (1.5917322219892818e-07, 0.0075503511409096774), (-9.550393331935694e-08, 0.006342294958364129), (5.730235999161419e-08, 0.0053275277650258685), (-3.438141599496853e-08, 0.00447512332262173), (2.062884959698112e-08, 0.003759103591002253), (-1.2377309758188675e-08, 0.0031576470164418925), (7.426385854913209e-09, 0.00265242349381119), (-4.4558315129479255e-09, 0.0022280357348013996), (2.673498907768756e-09, 0.0018715500172331756), (-1.604099344661254e-09, 0.0015721020144758675), (9.624596067967523e-10, 0.0013205656921597287), (-5.774757640780516e-10, 0.0011092751814141722), (3.4648545844683104e-10, 0.0009317911523879046), (-2.0789127506809866e-10, 0.0007827045680058398), (1.2473476504085923e-10, 0.0006574718371249054), (-7.484085902451555e-11, 0.0005522763431849206), (4.4904515414709323e-11, 0.0004639121282753333), (-2.6942709248825602e-11, 0.00038968618775128), (1.6165625549295356e-11, 0.0003273363977110752)], [(2, 2), (0.3599999999999999, 1.836), (-1.2472000000000003, 1.554248), (-1.5102560000000003, 1.2013980640000002), (-0.4822908800000001, 0.8206034739520001), (0.7355597376000003, 0.44867831704953604), (1.1066812468480003, 0.11434656952950284), (0.4960998318310401, -0.162495247187943), (-0.39916716228398097, -0.37064409029248835), (-0.7880636845031335, -0.5067703493721406), (-0.452968680985886, -0.5741161879873469), (0.1865416402363385, -0.5809153314645494), (0.5451857522203206, -0.5387195890662184), (0.3850487249868434, -0.46078798884412375), (-0.058800851289150025, -0.36065809358122985), (-0.3656638142528418, -0.2509802136972539), (-0.31130985693646496, -0.14265753226689826), (-0.01255260839546224, -0.04430146947672811), (0.236746329321619, 0.03801610125249971), (0.2420534894515564, 0.100752837533177), (0.04781535620523006, 0.14268049387999832), (-0.14678374248011966, 0.1645228184592955), (-0.1821003525947013, 0.16850580700907103), (-0.06103135155871156, 0.15787472167414762), (0.0858695575482237, 0.1364241262289288), (0.13297724764422847, 0.10807687152198157), (0.06162205665276495, 0.0765367642916213), (-0.04599218259567313, 0.04502866383542014), (-0.09436998426597162, 0.016129833035954756), (-0.05568883850411369, -0.008311877912565841), (0.02092092567874588, -0.027183672682551924), (0.06505357796846192, -0.04005204733857153), (0.04701576586609598, -0.04706247918162435), (-0.005967411825995486, -0.048811701363173414), (-0.04346067628235237, -0.04620851959663244), (-0.03781753329590894, -0.040336875576475806), (-0.002292641604108858, -0.03233193656307948), (0.02800723786470047, -0.0232767665541899), (0.029281206390693544, -0.014123935689634664), (0.006289791971119299, -0.005643508271440433), (-0.01726096898085792, 0.0016036013413730683), (-0.021947583178136203, 0.007269793721631278), (-0.007699856329887142, 0.011206624540664081), (0.010012207339219566, 0.01343714598355587), (0.015971848256344887, 0.01411971716721772), (0.007642645419842338, 0.013507957306435345), (-0.005287686093630419, 0.011910896918681748), (-0.011296048707631682, 0.009656555061146967), (-0.006839978858574712, 0.0070612440601050906), (0.0023336596847021293, 0.004405973246342973), (0.007758969577867856, 0.0019204667891331538)], [(2, 2), (1.44, 1.944), (0.71424, 1.8460223999999998), (0.09621504000000003, 1.7181463910399999), (-0.28670754816, 1.570601907523584), (-0.42699284545536004, 1.4118944637305586), (-0.3882391799699866, 1.2489505104526464), (-0.25721009825881525, 1.0872746780910676), (-0.10971851968071228, 0.9311118598601541), (0.005957815090874466, 0.7836085203277114), (0.07091919569386358, 0.6469688849381081), (0.08847957612690352, 0.5226027756808855), (0.07382007394080153, 0.4112628114034045), (0.04470657997818236, 0.31316949646193987), (0.015419365061822649, 0.22812338886252265), (-0.005767492947310885, 0.15560408070506518), (-0.016356225135324753, 0.09485615242208442), (-0.017875591837729812, 0.04496259112142022), (-0.013745581343750778, 0.004906405302623963), (-0.007517932522968636, -0.026378664138545477), (-0.001825785695766904, -0.049967331540119564), (0.0019641108715160267, -0.06691079402846023), (0.0035971402502465075, -0.07821252822659705), (0.003530565902326242, -0.08481080594872352), (0.002503660625272822, -0.08756692413888481), (0.0012111382106136613, -0.08725820776766545), (0.0001275266007981597, -0.08457492009991065), (-0.000532341134679054, -0.08012029784666701), (-0.000763369432603794, -0.07441301524283808), (-0.000682698291079382, -0.06789146786330125), (-0.00044507619205909365, -0.06091935152080097), (-0.00018358452924686132, -0.053792092010290324), (1.8438336722105672e-05, -0.04674375643862912), (0.00012964077323804107, -0.039954145517823746), (0.00015739396016456838, -0.03355582799130642), (0.00012930948698816895, -0.027640933098929975), (7.692617408187557e-05, -0.022267564703848008), (2.5214057104925422e-05, -0.017465741628124528), (-1.1632058263176984e-05, -0.013242803238854461), (-2.9598444401514418e-05, -0.009588247856670134), (-3.1659518384772746e-05, -0.0064779946514968365), (-2.3982031851393175e-05, -0.003878077908912169), (-1.284483068977645e-05, -0.0017477964684287904), (-2.8332502275478105e-06, -4.235131919290902e-05), (3.7267301824092734e-06, 0.0012849886657903139), (6.461794447469957e-06, 0.0022811485554711393), (6.227889018853324e-06, 0.0029918903261337577), (4.349350566691213e-06, 0.0034607901978692644), (2.049494259572297e-06, 0.003728504612590455), (1.5091863399155842e-07, 0.00383228121232512), (-9.849181438605835e-07, 0.0038056740223336924)], [(2, 2), (1.5000000000015625, 1.5000000001562501), (1.2000000000019626, 1.20000000019625), (0.983634466209707, 0.98363446641687), (0.8164843934421349, 0.8164843936509021), (0.6827902184362872, 0.6827902186406496), (0.5736820193338091, 0.5736820195302159), (0.4835120798838106, 0.48351208007010027), (0.4083777646918273, 0.4083777648667251), (0.345423795117476, 0.3454237952803166), (0.2924740005895937, 0.29247400074014773), (0.24781999725523493, 0.24781999739359023), (0.210091494972714, 0.21009149509918829), (0.17817208023960104, 0.17817208035467516), (0.15114180006797226, 0.15114180017223844), (0.1282363255355136, 0.1282363256296347), (0.10881682920679024, 0.10881682929146792), (0.09234707081929303, 0.09234707089524319), (0.07837551831509545, 0.07837551838302961), (0.06652111021831152, 0.06652111027892291), (0.05646173458331824, 0.05646173463727193), (0.047924790406278166, 0.04792479045420431), (0.040679382419773744, 0.040679382462263325), (0.03452982127198491, 0.034529821309587455), (0.029310182625493657, 0.029310182658716443), (0.024879735254755498, 0.02487973528406387), (0.021119088615073563, 0.02111908864089211), (0.01792694005622556, 0.017926940078939857), (0.01521732428628125, 0.015217324306239968), (0.01291728504535493, 0.012917285062872225), (0.01096490265330137, 0.010964902668659354), (0.009307622102502867, 0.009307622115954131), (0.007900835328624616, 0.007900835340394714), (0.006706678666392172, 0.006706678676682025), (0.005693012614721137, 0.0056930126237093315), (0.004832556141245245, 0.004832556149090196), (0.004102152037152207, 0.004102152043994176), (0.003482143434580214, 0.0034821434405431792), (0.002955844635985246, 0.0029558446411786198), (0.002509091970853036, 0.0025090919753732377), (0.0021298625658373403, 0.002129862569769222), (0.0018079507524842715, 0.0018079507559024142), (0.0015346933941903854, 0.001534693397160265), (0.0013027367344283745, 0.00130273673700741), (0.0011058384880549212, 0.001105838490293415), (0.0009386998474141621, 0.0009386998493561394), (0.0007968228808905691, 0.0007968228825745262), (0.0006763894854560843, 0.0006763894869156543), (0.0005741586351372302, 0.0005741586364017735), (0.0004873791598998811, 0.0004873791609950089), (0.0004137157075186117, 0.00041371570846664846)], [(2, 2), (1.5527864045070299, 1.5527864051988132), (1.2596289459807166, 1.2596289469212862), (1.0310881678794062, 1.0310881689589666), (0.8416281199046813, 0.8416281210716806), (0.680360341211352, 0.6803603424320945), (0.5417804227544414, 0.541780424001437), (0.4228450534546886, 0.4228450547020074), (0.32174910416818975, 0.3217491053893476), (0.23729150704207413, 0.2372915082092979), (0.16848082212131205, 0.16848082320595362), (0.11426031716291912, 0.11426031813705001), (0.07332141780776733, 0.07332141864692104), (0.04401302781197533, 0.04401302849869532), (0.02436234259848821, 0.02436234312589353), (0.012205802298002912, 0.012205802672211746), (0.005397137598390157, 0.005397137838594073), (0.002031232925043753, 0.0020312330604986355), (0.0006149472000273257, 0.0006149472642540974), (0.00013556297835878362, 0.00013556300217891948), (1.7410727267880735e-05, 1.7410733263762613e-05), (4.449868729362702e-07, 4.449875475307176e-07), (-3.980810330798159e-08, -3.980814519861009e-08), (8.680246419886026e-09, 8.680253262972589e-09), (-3.1407198601899758e-09, -3.140721641949092e-09), (1.6412312466057997e-09, 1.6412318282607248e-09), (-1.152603495971753e-09, -1.1526036502098481e-09), (1.0410391267259827e-09, 1.0410390172429435e-09), (-1.1741356735673502e-09, -1.1741352367939961e-09), (1.6191428321470236e-09, 1.6191417369602036e-09), (-2.687472914699347e-09, -2.6874701484768388e-09), (5.304427519859248e-09, 5.304419862698023e-09), (-1.2331548290201484e-08, -1.2331524434004237e-08), (3.35072885623499e-08, 3.3507204083048823e-08), (-1.0574754317624417e-07, -1.0574720196398896e-07), (3.8560847447087683e-07, 3.8560690138048964e-07), (-1.6176065486536863e-06, -1.6175982743898385e-06), (7.77765556327412e-06, 7.77760596150647e-06), (-4.272796517584515e-05, -4.272762672362566e-05), (0.00026748369534212156, 0.0002674810702997303), (-0.001903682699600702, -0.0019036595892142206), (0.015359527184112738, 0.015359297095910107), (-0.13170508471642736, -0.13170293510500028), (0.2945775805096602, 0.29457901963920174), (-0.1178142131057045, -0.11781397499237667), (0.0526631279055271, 0.05266278184127221), (-0.031029885161103596, -0.031029585687838895), (0.023689625965487043, 0.02368934263994814), (-0.022763994422066794, -0.022763681125290716), (0.026835499579090316, 0.02683509390452049), (-0.037849326609749864, -0.03784872616540541)]] 5\n"
          ]
        },
        {
          "output_type": "display_data",
          "data": {
            "text/plain": [
              "<Figure size 432x288 with 1 Axes>"
            ],
            "image/png": "[encoded data removed]"
          },
          "metadata": {
            "needs_background": "light"
          }
        }
      ]
    }
  ]
}