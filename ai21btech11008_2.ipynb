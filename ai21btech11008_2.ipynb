{
  "nbformat": 4,
  "nbformat_minor": 0,
  "metadata": {
    "colab": {
      "provenance": [],
      "authorship_tag": "ABX9TyMPTA44Ml8ddmJOqLNYFpvp",
      "include_colab_link": true
    },
    "kernelspec": {
      "name": "python3",
      "display_name": "Python 3"
    },
    "language_info": {
      "name": "python"
    }
  },
  "cells": [
    {
      "cell_type": "markdown",
      "metadata": {
        "id": "view-in-github",
        "colab_type": "text"
      },
      "source": [
        "<a href=\"https://colab.research.google.com/github/sumeethkumar12/dl/blob/main/ai21btech11008_2.ipynb\" target=\"_parent\"><img src=\"https://colab.research.google.com/assets/colab-badge.svg\" alt=\"Open In Colab\"/></a>"
      ]
    },
    {
      "cell_type": "code",
      "execution_count": null,
      "metadata": {
        "colab": {
          "base_uri": "https://localhost:8080/"
        },
        "id": "yGREve3o0INY",
        "outputId": "b44aac19-e143-4e8b-ddd5-8877fdaf520b"
      },
      "outputs": [
        {
          "output_type": "stream",
          "name": "stdout",
          "text": [
            "Iteration: 0, Loss: 0.7475\n",
            "Perceptron classification accuracy 0.59\n"
          ]
        }
      ],
      "source": [
        "import numpy as np\n",
        "import matplotlib.pyplot as plt\n",
        "from sklearn.model_selection import train_test_split\n",
        "from sklearn import datasets\n",
        "\n",
        "        \n",
        "def sigmoid( x):\n",
        "    return 1 / (1 + np.exp(-x))\n",
        "    \n",
        "def loss( y_true, y_pred):\n",
        "    return np.maximum(0, 1 - y_true * y_pred)\n",
        "\n",
        "    \n",
        "def fit( X, y):\n",
        "        n_samples, n_features = X.shape\n",
        "        \n",
        "        weights = np.zeros(n_features)\n",
        "        bias = 0\n",
        "        \n",
        "        for i in range(2000):\n",
        "            linear_output = X.dot( weights) +  bias\n",
        "            y_pred =  sigmoid(linear_output)\n",
        "            error = y_pred - y\n",
        "            \n",
        "            grad_weights = X.T.dot(error) / n_samples\n",
        "            grad_bias = np.sum(error) / n_samples\n",
        "            \n",
        "            weights -=  0.01 * grad_weights\n",
        "            bias -=  0.01 * grad_bias\n",
        "            \n",
        "            if i % 100 == 0:\n",
        "                print(f'Iteration: {i}, Loss: { np.mean(loss(y, y_pred))}')\n",
        "            return weights,bias\n",
        "    \n",
        "def predict(X,weights,bias):\n",
        "        linear_output = X.dot(weights) +  bias\n",
        "        y_pred =  sigmoid(linear_output)\n",
        "        y_pred_cls = [1 if i > 0.5 else 0 for i in y_pred]\n",
        "        return np.array(y_pred_cls)\n",
        "    \n",
        "if __name__ == '__main__':\n",
        "    # testing code here\n",
        "    X, y = datasets.make_blobs(\n",
        "        n_samples=1000, n_features=2, centers=2, cluster_std=1.0, random_state=2\n",
        "    )\n",
        "    X_train, X_test, y_train, y_test = train_test_split(\n",
        "        X, y, test_size=0.2, random_state=123\n",
        "    )\n",
        "    def accuracy(y_true, y_pred):\n",
        "        accuracy = np.sum(y_true == y_pred) / len(y_true)\n",
        "        return accuracy\n",
        "\n",
        "    weights,bias = fit(X_train, y_train)\n",
        "    predictions = predict(X_test,weights=weights,bias=bias)\n",
        "\n",
        "    print(\"Perceptron classification accuracy\", accuracy(y_test, predictions))\n"
      ]
    }
  ]
}